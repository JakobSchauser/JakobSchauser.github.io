{
 "cells": [
  {
   "cell_type": "code",
   "execution_count": 10,
   "id": "e4f96d22",
   "metadata": {
    "ExecuteTime": {
     "end_time": "2021-10-27T10:00:12.997709Z",
     "start_time": "2021-10-27T09:59:56.896932Z"
    }
   },
   "outputs": [
    {
     "name": "stdout",
     "output_type": "stream",
     "text": [
      "broke\n"
     ]
    }
   ],
   "source": [
    "import numpy as np\n",
    "import PIL as PIL\n",
    "import cv2\n",
    "\n",
    "vidcap = cv2.VideoCapture('potionseller.mp4')\n",
    "success,image = vidcap.read()\n",
    "count = 0\n",
    "tcount = 0\n",
    "\n",
    "N = 24*2\n",
    "while success:\n",
    "    if count%N == 0:\n",
    "        success,image = vidcap.read()\n",
    "        cv2.imwrite(\"frames/frame%d.jpg\" % (count/N), image)     # save frame as JPEG file     \n",
    "        tcount += 1\n",
    "    count += 1\n",
    "    if tcount > 1000:\n",
    "        print(\"broke\")\n",
    "        break"
   ]
  }
 ],
 "metadata": {
  "hide_input": false,
  "kernelspec": {
   "display_name": "Python 3",
   "language": "python",
   "name": "python3"
  },
  "language_info": {
   "codemirror_mode": {
    "name": "ipython",
    "version": 3
   },
   "file_extension": ".py",
   "mimetype": "text/x-python",
   "name": "python",
   "nbconvert_exporter": "python",
   "pygments_lexer": "ipython3",
   "version": "3.6.12"
  },
  "toc": {
   "base_numbering": 1,
   "nav_menu": {},
   "number_sections": true,
   "sideBar": true,
   "skip_h1_title": false,
   "title_cell": "Table of Contents",
   "title_sidebar": "Contents",
   "toc_cell": false,
   "toc_position": {},
   "toc_section_display": true,
   "toc_window_display": false
  }
 },
 "nbformat": 4,
 "nbformat_minor": 5
}
