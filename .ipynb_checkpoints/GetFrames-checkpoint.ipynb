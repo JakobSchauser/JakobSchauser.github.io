{
 "cells": [
  {
   "cell_type": "code",
   "execution_count": 4,
   "id": "aa73aeb0",
   "metadata": {
    "ExecuteTime": {
     "end_time": "2021-10-26T15:49:38.791608Z",
     "start_time": "2021-10-26T15:49:09.171424Z"
    }
   },
   "outputs": [],
   "source": [
    "import numpy as np\n",
    "import PIL as PIL\n",
    "import cv2\n",
    "\n",
    "vidcap = cv2.VideoCapture('potionseller.mp4')\n",
    "success,image = vidcap.read()\n",
    "count = 0\n",
    "while success:\n",
    "    if count%10 == 0:\n",
    "        success,image = vidcap.read()\n",
    "        cv2.imwrite(\"frames/frame%d.jpg\" % count, image)     # save frame as JPEG file      \n",
    "    count += 1"
   ]
  }
 ],
 "metadata": {
  "hide_input": false,
  "kernelspec": {
   "display_name": "Python 3",
   "language": "python",
   "name": "python3"
  },
  "language_info": {
   "codemirror_mode": {
    "name": "ipython",
    "version": 3
   },
   "file_extension": ".py",
   "mimetype": "text/x-python",
   "name": "python",
   "nbconvert_exporter": "python",
   "pygments_lexer": "ipython3",
   "version": "3.6.12"
  },
  "toc": {
   "base_numbering": 1,
   "nav_menu": {},
   "number_sections": true,
   "sideBar": true,
   "skip_h1_title": false,
   "title_cell": "Table of Contents",
   "title_sidebar": "Contents",
   "toc_cell": false,
   "toc_position": {},
   "toc_section_display": true,
   "toc_window_display": false
  }
 },
 "nbformat": 4,
 "nbformat_minor": 5
}
